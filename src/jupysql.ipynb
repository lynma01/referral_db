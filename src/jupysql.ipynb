{
 "cells": [
  {
   "attachments": {},
   "cell_type": "markdown",
   "metadata": {},
   "source": [
    "# Purpose\n",
    "- This file is a scratch-pad for sql queries"
   ]
  },
  {
   "cell_type": "code",
   "execution_count": 1,
   "metadata": {},
   "outputs": [
    {
     "name": "stderr",
     "output_type": "stream",
     "text": [
      "c:\\Users\\MatthewLyn\\AppData\\Local\\Programs\\Python\\Python310\\lib\\site-packages\\requests\\__init__.py:102: RequestsDependencyWarning: urllib3 (1.26.9) or chardet (5.0.0)/charset_normalizer (2.0.12) doesn't match a supported version!\n",
      "  warnings.warn(\"urllib3 ({}) or chardet ({})/charset_normalizer ({}) doesn't match a supported \"\n"
     ]
    }
   ],
   "source": [
    "%load_ext sql\n",
    "%sql duckdb:///../data/referral.db --alias referralsDB"
   ]
  },
  {
   "cell_type": "code",
   "execution_count": 2,
   "metadata": {},
   "outputs": [],
   "source": [
    "%sql referralsDB"
   ]
  },
  {
   "cell_type": "code",
   "execution_count": 3,
   "metadata": {},
   "outputs": [
    {
     "name": "stdout",
     "output_type": "stream",
     "text": [
      "*  (referralsDB) duckdb:///../data/referral.db\n",
      "Done.\n"
     ]
    },
    {
     "data": {
      "text/html": [
       "<table>\n",
       "    <tr>\n",
       "        <th>Count</th>\n",
       "    </tr>\n",
       "    <tr>\n",
       "        <td>818829</td>\n",
       "    </tr>\n",
       "</table>"
      ],
      "text/plain": [
       "[(818829,)]"
      ]
     },
     "execution_count": 3,
     "metadata": {},
     "output_type": "execute_result"
    }
   ],
   "source": [
    "%%sql\n",
    "CREATE OR REPLACE TABLE coc as\n",
    "\n",
    "SELECT DISTINCT * FROM read_csv_auto('../data/reference/coc.csv', header=True)"
   ]
  },
  {
   "cell_type": "code",
   "execution_count": 4,
   "metadata": {},
   "outputs": [
    {
     "name": "stdout",
     "output_type": "stream",
     "text": [
      "*  (referralsDB) duckdb:///../data/referral.db\n",
      "Done.\n"
     ]
    },
    {
     "data": {
      "text/html": [
       "<table>\n",
       "    <tr>\n",
       "        <th>Count</th>\n",
       "    </tr>\n",
       "    <tr>\n",
       "        <td>266</td>\n",
       "    </tr>\n",
       "</table>"
      ],
      "text/plain": [
       "[(266,)]"
      ]
     },
     "execution_count": 4,
     "metadata": {},
     "output_type": "execute_result"
    }
   ],
   "source": [
    "%%sql \n",
    "CREATE OR REPLACE TABLE team as \n",
    "\n",
    "SELECT DISTINCT * FROM read_csv_auto('../data/reference/user_list.csv', header=True)"
   ]
  },
  {
   "cell_type": "code",
   "execution_count": 5,
   "metadata": {},
   "outputs": [
    {
     "name": "stdout",
     "output_type": "stream",
     "text": [
      "*  (referralsDB) duckdb:///../data/referral.db\n",
      "Done.\n"
     ]
    },
    {
     "data": {
      "text/html": [
       "<table>\n",
       "    <tr>\n",
       "        <th>Count</th>\n",
       "    </tr>\n",
       "    <tr>\n",
       "        <td>16991</td>\n",
       "    </tr>\n",
       "</table>"
      ],
      "text/plain": [
       "[(16991,)]"
      ]
     },
     "execution_count": 5,
     "metadata": {},
     "output_type": "execute_result"
    }
   ],
   "source": [
    "%sql CREATE OR REPLACE TABLE hcpcs as SELECT DISTINCT * FROM read_csv_auto('../data/reference/cpt_hcpcs.csv', header=True)"
   ]
  },
  {
   "cell_type": "code",
   "execution_count": 6,
   "metadata": {},
   "outputs": [
    {
     "name": "stdout",
     "output_type": "stream",
     "text": [
      "*  (referralsDB) duckdb:///../data/referral.db\n",
      "Done.\n"
     ]
    },
    {
     "data": {
      "text/html": [
       "<table>\n",
       "    <tr>\n",
       "        <th>Count</th>\n",
       "    </tr>\n",
       "    <tr>\n",
       "        <td>95387</td>\n",
       "    </tr>\n",
       "</table>"
      ],
      "text/plain": [
       "[(95387,)]"
      ]
     },
     "execution_count": 6,
     "metadata": {},
     "output_type": "execute_result"
    }
   ],
   "source": [
    "%sql CREATE OR REPLACE TABLE icd10cm as SELECT DISTINCT * FROM read_csv('../data/reference/icd10cm.csv', header=True, columns={'code_value': 'VARCHAR', 'code_long_description': 'VARCHAR'})"
   ]
  },
  {
   "cell_type": "code",
   "execution_count": 7,
   "metadata": {},
   "outputs": [
    {
     "name": "stdout",
     "output_type": "stream",
     "text": [
      "*  (referralsDB) duckdb:///../data/referral.db\n",
      "Done.\n"
     ]
    },
    {
     "data": {
      "text/html": [
       "<table>\n",
       "    <tr>\n",
       "        <th>Count</th>\n",
       "    </tr>\n",
       "    <tr>\n",
       "        <td>100358</td>\n",
       "    </tr>\n",
       "</table>"
      ],
      "text/plain": [
       "[(100358,)]"
      ]
     },
     "execution_count": 7,
     "metadata": {},
     "output_type": "execute_result"
    }
   ],
   "source": [
    "%%sql \n",
    "CREATE OR REPLACE TABLE cln_referrals as \n",
    "\n",
    "SELECT DISTINCT * FROM read_parquet('../data/clean_referrals/*.parquet')"
   ]
  },
  {
   "attachments": {},
   "cell_type": "markdown",
   "metadata": {},
   "source": [
    "- No Auth Required ->\tAppointment Scheduled or Member to Schedule or Unable to Contact\n",
    "- Approved\t       ->   Appointment Scheduled or Member to Schedule or Unable to Contact\n",
    "- Denied\t       ->   Open\n",
    "- Withdrawn\t       ->   Open"
   ]
  },
  {
   "cell_type": "code",
   "execution_count": 8,
   "metadata": {},
   "outputs": [
    {
     "name": "stdout",
     "output_type": "stream",
     "text": [
      "*  (referralsDB) duckdb:///../data/referral.db\n"
     ]
    },
    {
     "data": {
      "application/vnd.jupyter.widget-view+json": {
       "model_id": "08a85d14f07e4a18bd9903653a1ff79f",
       "version_major": 2,
       "version_minor": 0
      },
      "text/plain": [
       "FloatProgress(value=0.0, layout=Layout(width='100%'), style=ProgressStyle(bar_color='black'))"
      ]
     },
     "metadata": {},
     "output_type": "display_data"
    },
    {
     "name": "stdout",
     "output_type": "stream",
     "text": [
      "Done.\n"
     ]
    },
    {
     "data": {
      "text/html": [
       "<table>\n",
       "    <tr>\n",
       "        <th>Count</th>\n",
       "    </tr>\n",
       "    <tr>\n",
       "        <td>96094</td>\n",
       "    </tr>\n",
       "</table>"
      ],
      "text/plain": [
       "[(96094,)]"
      ]
     },
     "execution_count": 8,
     "metadata": {},
     "output_type": "execute_result"
    }
   ],
   "source": [
    "%%sql \n",
    "CREATE OR REPLACE TABLE bi_referrals as\n",
    "\n",
    "WITH main as (\n",
    "\n",
    "    SELECT DISTINCT rf.*\n",
    "    , COALESCE(tm.Team, 'N/A') as User_Team\n",
    "\n",
    "    , UPPER(\"Last Name\") || UPPER(\"First Name\") as patient_name\n",
    "\n",
    "    , c.health_plan\n",
    "    , c.care_partner_name\n",
    "    , c.care_partner_group\n",
    "\n",
    "    , UPPER(\"Last Name\") || UPPER(\"First Name\") || \"DOB\" as patient_id\n",
    "\n",
    "    , patient_id || coalesce(\"Plan ID\", 'NA') || coalesce(\"Referring Provider NPI\", 'NA') || \"Referral Date\" || coalesce(\"Procedure\", 'NA') || coalesce(Specialty, 'NA') as Referral_keyid\n",
    "\n",
    "    , CASE\n",
    "        WHEN \"Approval Status\" IN ('No HP Auth Required', 'HP Approved', 'Approved (comments required)', 'Complete/no Auth# needed')  \n",
    "            AND \"Visit Status\" IN ('Appointment Scheduled', 'Member to Schedule', 'Unable to Contact', 'Denied', 'Withdrawn')\n",
    "            THEN 'Completed'\n",
    "        WHEN \"Approval Status\" IN ('Denied- Per Insurance Plan', 'Denied- Per Medical Director Review')\n",
    "            AND \"Visit Status\" = 'Open'\n",
    "            THEN 'Completed'\n",
    "        ELSE \"Referral Status\" END as \"Updated Status\"\n",
    "\n",
    "    , RIGHT(\"Procedure\", 5) as Proc_code\n",
    "    , pc.code_short_description as Proc_name \n",
    "\n",
    "    , FORMAT(\n",
    "        '({}) {}-{}'\n",
    "        , substring(\"Mobile Phone\", 1, 3), substring(\"Mobile Phone\", 3, 3), substring(\"Mobile Phone\", 6, 4)\n",
    "    ) as \"Fmt Mobile Phone\"\n",
    "\n",
    "    , FORMAT(\n",
    "        '({}) {}-{}'\n",
    "        , substring(\"Home Phone\", 1, 3), substring(\"Home Phone\", 3, 3), substring(\"Home Phone\", 6, 4)\n",
    "    ) as \"Fmt Home Phone\"\n",
    "\n",
    "    , icd.code_long_description AS \"Diagnosis Description\"\n",
    "\n",
    "    FROM cln_referrals AS rf\n",
    "\n",
    "    LEFT JOIN icd10cm AS icd\n",
    "        ON trim(rf.\"Diagnosis\") = trim(icd.code_value)\n",
    "\n",
    "    LEFT JOIN hcpcs AS pc\n",
    "        on RIGHT(\"Procedure\", 5) = pc.code_value\n",
    "\n",
    "    LEFT JOIN team as tm\n",
    "        on  \"User_FName\" = tm.Fname\n",
    "        AND \"User_LName\" = tm.Lname\n",
    "\n",
    "    LEFT JOIN coc as c\n",
    "        ON rf.\"Plan ID\" = c.member_id\n",
    "        AND date_part('month', \"Referral Date\":: DATE) = c.month_ym:: INTEGER\n",
    "        AND date_part('year', \"Referral Date\":: DATE) = c.year_ym:: INTEGER\n",
    "\n",
    "    WHERE \"Visit Status\" IS NOT NULL\n",
    ")\n",
    "\n",
    ", max_updatedt as (\n",
    "    SELECT DISTINCT\n",
    "        Referral_keyid\n",
    "        , Update_DT\n",
    "        , MAX(Update_DT) OVER (PARTITION BY Referral_keyid) as Last_UpdateDT\n",
    "\n",
    "    FROM main \n",
    ")\n",
    "\n",
    "SELECT DISTINCT m.* \n",
    "\n",
    "FROM main as m\n",
    "\n",
    "INNER JOIN max_updatedt as dt\n",
    "    ON m.Update_DT = dt.Last_UpdateDT\n",
    "    AND m.Referral_keyid = dt.Referral_keyid"
   ]
  },
  {
   "cell_type": "code",
   "execution_count": 14,
   "metadata": {},
   "outputs": [
    {
     "name": "stdout",
     "output_type": "stream",
     "text": [
      "*  (referralsDB) duckdb:///../data/referral.db\n",
      "Done.\n"
     ]
    },
    {
     "data": {
      "text/html": [
       "<table>\n",
       "    <tr>\n",
       "        <th>replace(replace(regexp_replace(upper(&quot;Health Plan&quot;), &#x27;[(*)]&#x27;, &#x27; &#x27;, &#x27;g&#x27;), &#x27;-&#x27;, &#x27; &#x27;), &#x27;  &#x27;, &#x27; &#x27;)</th>\n",
       "    </tr>\n",
       "    <tr>\n",
       "        <td>OSCAR INSURANCE COMPANY OF FLORIDA</td>\n",
       "    </tr>\n",
       "    <tr>\n",
       "        <td>AMBETTER CENTRUM CONTRACT </td>\n",
       "    </tr>\n",
       "    <tr>\n",
       "        <td>AMBETTER</td>\n",
       "    </tr>\n",
       "    <tr>\n",
       "        <td>OSCAR HEALTH</td>\n",
       "    </tr>\n",
       "    <tr>\n",
       "        <td>UNITED HEALTHCARE EXCHANGE</td>\n",
       "    </tr>\n",
       "    <tr>\n",
       "        <td>CIGNA  MEDICARE</td>\n",
       "    </tr>\n",
       "    <tr>\n",
       "        <td>AMBETTER SUPERIOR HEALTH EXCHANGE</td>\n",
       "    </tr>\n",
       "    <tr>\n",
       "        <td>SIMPLY MEDICAID MED CARE</td>\n",
       "    </tr>\n",
       "    <tr>\n",
       "        <td>AETNA COMMERCIAL HEALTH </td>\n",
       "    </tr>\n",
       "    <tr>\n",
       "        <td>CIGNA EXCHANGE</td>\n",
       "    </tr>\n",
       "    <tr>\n",
       "        <td>CAREPLUS</td>\n",
       "    </tr>\n",
       "    <tr>\n",
       "        <td>BCBS EXCHANGE</td>\n",
       "    </tr>\n",
       "    <tr>\n",
       "        <td>SIMPLY MEDICARE MED CARE</td>\n",
       "    </tr>\n",
       "    <tr>\n",
       "        <td>AMERIHEALTH CARITAS FLORIDA MEDICAID </td>\n",
       "    </tr>\n",
       "    <tr>\n",
       "        <td>MED PLAN DISCOUNT PLAN</td>\n",
       "    </tr>\n",
       "    <tr>\n",
       "        <td>MOLINA EXCHANGE </td>\n",
       "    </tr>\n",
       "    <tr>\n",
       "        <td>UHC EXCHANGE</td>\n",
       "    </tr>\n",
       "    <tr>\n",
       "        <td>AETNA MEDICARE </td>\n",
       "    </tr>\n",
       "    <tr>\n",
       "        <td>MOLINA MEDICAID </td>\n",
       "    </tr>\n",
       "    <tr>\n",
       "        <td>UNITED MEDICAID COMMUNITY PLAN</td>\n",
       "    </tr>\n",
       "    <tr>\n",
       "        <td>PREFERRED CARE PARTNERS</td>\n",
       "    </tr>\n",
       "    <tr>\n",
       "        <td>DOCTORS HEALTHCARE PLANS, INC</td>\n",
       "    </tr>\n",
       "    <tr>\n",
       "        <td>FLORIDACARE HEALTH PLAN</td>\n",
       "    </tr>\n",
       "    <tr>\n",
       "        <td>None</td>\n",
       "    </tr>\n",
       "    <tr>\n",
       "        <td>SELF PAY</td>\n",
       "    </tr>\n",
       "    <tr>\n",
       "        <td>PREFERRED CARE NETWORK MEDICA </td>\n",
       "    </tr>\n",
       "    <tr>\n",
       "        <td>MEDICARE PART B FLORIDA</td>\n",
       "    </tr>\n",
       "    <tr>\n",
       "        <td>AVMED EXCHANGE </td>\n",
       "    </tr>\n",
       "    <tr>\n",
       "        <td>FLORIDA BLUE</td>\n",
       "    </tr>\n",
       "    <tr>\n",
       "        <td>AMERIHEALTH CARITAS OF FLORIDA EXCHANGE </td>\n",
       "    </tr>\n",
       "    <tr>\n",
       "        <td>HEALTH SUN HEALTH PLANS</td>\n",
       "    </tr>\n",
       "    <tr>\n",
       "        <td>AVMED MEDICARE</td>\n",
       "    </tr>\n",
       "    <tr>\n",
       "        <td>BCBS MEDICARE</td>\n",
       "    </tr>\n",
       "    <tr>\n",
       "        <td>SIMPLY MEDICAID  MEDCARE MEMBERS</td>\n",
       "    </tr>\n",
       "</table>"
      ],
      "text/plain": [
       "[('OSCAR INSURANCE COMPANY OF FLORIDA',),\n",
       " ('AMBETTER CENTRUM CONTRACT ',),\n",
       " ('AMBETTER',),\n",
       " ('OSCAR HEALTH',),\n",
       " ('UNITED HEALTHCARE EXCHANGE',),\n",
       " ('CIGNA  MEDICARE',),\n",
       " ('AMBETTER SUPERIOR HEALTH EXCHANGE',),\n",
       " ('SIMPLY MEDICAID MED CARE',),\n",
       " ('AETNA COMMERCIAL HEALTH ',),\n",
       " ('CIGNA EXCHANGE',),\n",
       " ('CAREPLUS',),\n",
       " ('BCBS EXCHANGE',),\n",
       " ('SIMPLY MEDICARE MED CARE',),\n",
       " ('AMERIHEALTH CARITAS FLORIDA MEDICAID ',),\n",
       " ('MED PLAN DISCOUNT PLAN',),\n",
       " ('MOLINA EXCHANGE ',),\n",
       " ('UHC EXCHANGE',),\n",
       " ('AETNA MEDICARE ',),\n",
       " ('MOLINA MEDICAID ',),\n",
       " ('UNITED MEDICAID COMMUNITY PLAN',),\n",
       " ('PREFERRED CARE PARTNERS',),\n",
       " ('DOCTORS HEALTHCARE PLANS, INC',),\n",
       " ('FLORIDACARE HEALTH PLAN',),\n",
       " (None,),\n",
       " ('SELF PAY',),\n",
       " ('PREFERRED CARE NETWORK MEDICA ',),\n",
       " ('MEDICARE PART B FLORIDA',),\n",
       " ('AVMED EXCHANGE ',),\n",
       " ('FLORIDA BLUE',),\n",
       " ('AMERIHEALTH CARITAS OF FLORIDA EXCHANGE ',),\n",
       " ('HEALTH SUN HEALTH PLANS',),\n",
       " ('AVMED MEDICARE',),\n",
       " ('BCBS MEDICARE',),\n",
       " ('SIMPLY MEDICAID  MEDCARE MEMBERS',)]"
      ]
     },
     "execution_count": 14,
     "metadata": {},
     "output_type": "execute_result"
    }
   ],
   "source": [
    "%%sql\n",
    "SELECT DISTINCT \n",
    "    REPLACE(REPLACE(REGEXP_REPLACE(UPPER(\"Health Plan\"), '[(*)]', ' ', 'g'), '-', ' '), '  ', ' ')\n",
    "\n",
    "FROM bi_referrals"
   ]
  },
  {
   "cell_type": "code",
   "execution_count": 17,
   "metadata": {},
   "outputs": [
    {
     "name": "stdout",
     "output_type": "stream",
     "text": [
      "*  (referralsDB) duckdb:///../data/referral.db\n",
      "Done.\n"
     ]
    },
    {
     "data": {
      "text/html": [
       "<table>\n",
       "    <tr>\n",
       "        <th>Count</th>\n",
       "    </tr>\n",
       "    <tr>\n",
       "        <td>34</td>\n",
       "    </tr>\n",
       "</table>"
      ],
      "text/plain": [
       "[(34,)]"
      ]
     },
     "execution_count": 17,
     "metadata": {},
     "output_type": "execute_result"
    }
   ],
   "source": [
    "%%sql\n",
    "\n",
    "COPY (SELECT DISTINCT REPLACE(REPLACE(REPLACE(REGEXP_REPLACE(UPPER(\"Health Plan\"), '[(*)]', ' ', 'g'), '-', ' '), '  ', ' '), '  ', ' ') FROM bi_referrals) TO '../data/reference/health_plan2.csv' (FORMAT 'csv')"
   ]
  },
  {
   "cell_type": "code",
   "execution_count": null,
   "metadata": {},
   "outputs": [],
   "source": []
  }
 ],
 "metadata": {
  "kernelspec": {
   "display_name": "Python 3",
   "language": "python",
   "name": "python3"
  },
  "language_info": {
   "codemirror_mode": {
    "name": "ipython",
    "version": 3
   },
   "file_extension": ".py",
   "mimetype": "text/x-python",
   "name": "python",
   "nbconvert_exporter": "python",
   "pygments_lexer": "ipython3",
   "version": "3.10.5"
  },
  "orig_nbformat": 4
 },
 "nbformat": 4,
 "nbformat_minor": 2
}
