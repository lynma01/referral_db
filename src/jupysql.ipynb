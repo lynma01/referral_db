{
 "cells": [
  {
   "attachments": {},
   "cell_type": "markdown",
   "metadata": {},
   "source": [
    "# Purpose\n",
    "- This file is a scratch-pad for sql queries"
   ]
  },
  {
   "cell_type": "code",
   "execution_count": null,
   "metadata": {},
   "outputs": [],
   "source": [
    "%load_ext sql\n",
    "%sql duckdb:///../data/referral.db --alias referralsDB"
   ]
  },
  {
   "cell_type": "code",
   "execution_count": null,
   "metadata": {},
   "outputs": [],
   "source": [
    "%sql referralsDB"
   ]
  },
  {
   "cell_type": "code",
   "execution_count": null,
   "metadata": {},
   "outputs": [],
   "source": [
    "%%sql \n",
    "CREATE OR REPLACE TABLE team as \n",
    "\n",
    "SELECT DISTINCT * FROM read_csv_auto('../data/reference/user_list.csv', header=True)"
   ]
  },
  {
   "cell_type": "code",
   "execution_count": null,
   "metadata": {},
   "outputs": [],
   "source": [
    "%sql CREATE OR REPLACE TABLE hcpcs as SELECT DISTINCT * FROM read_csv_auto('../data/reference/cpt_hcpcs.csv', header=True)"
   ]
  },
  {
   "cell_type": "code",
   "execution_count": null,
   "metadata": {},
   "outputs": [],
   "source": [
    "%sql CREATE OR REPLACE TABLE icd10cm as SELECT DISTINCT * FROM read_csv('../data/reference/icd10cm.csv', header=True, columns={'code_value': 'VARCHAR', 'code_long_description': 'VARCHAR'})"
   ]
  },
  {
   "cell_type": "code",
   "execution_count": null,
   "metadata": {},
   "outputs": [],
   "source": [
    "%%sql \n",
    "CREATE OR REPLACE TABLE cln_referrals as \n",
    "\n",
    "SELECT DISTINCT * FROM read_parquet('../data/clean_referrals/*.parquet')"
   ]
  },
  {
   "attachments": {},
   "cell_type": "markdown",
   "metadata": {},
   "source": [
    "- No Auth Required ->\tAppointment Scheduled or Member to Schedule or Unable to Contact\n",
    "- Approved\t       ->   Appointment Scheduled or Member to Schedule or Unable to Contact\n",
    "- Denied\t       ->   Open\n",
    "- Withdrawn\t       ->   Open"
   ]
  },
  {
   "cell_type": "code",
   "execution_count": null,
   "metadata": {},
   "outputs": [],
   "source": [
    "%%sql \n",
    "CREATE OR REPLACE TABLE bi_referrals as\n",
    "\n",
    "WITH main as (\n",
    "\n",
    "    SELECT DISTINCT rf.*\n",
    "    , COALESCE(tm.Team, 'N/A') as User_Team\n",
    "\n",
    "    , UPPER(\"Last Name\") || UPPER(\"First Name\") as patient_name\n",
    "\n",
    "    , UPPER(\"Last Name\") || UPPER(\"First Name\") || \"DOB\" as patient_id\n",
    "\n",
    "    , patient_id || coalesce(\"Plan ID\", 'NA') || coalesce(\"Referring Provider NPI\", 'NA') || \"Referral Date\" || coalesce(\"Procedure\", 'NA') || coalesce(Specialty, 'NA') as Referral_keyid\n",
    "\n",
    "    , CASE\n",
    "        WHEN \"Approval Status\" IN ('No HP Auth Required', 'HP Approved', 'Approved (comments required)', 'Complete/no Auth# needed')  \n",
    "            AND \"Visit Status\" IN ('Appointment Scheduled', 'Member to Schedule', 'Unable to Contact', 'Denied', 'Withdrawn')\n",
    "            THEN 'Completed'\n",
    "        WHEN \"Approval Status\" IN ('Denied- Per Insurance Plan', 'Denied- Per Medical Director Review')\n",
    "            AND \"Visit Status\" = 'Open'\n",
    "            THEN 'Completed'\n",
    "        ELSE \"Referral Status\" END as \"Updated Status\"\n",
    "\n",
    "    , RIGHT(\"Procedure\", 5) as Proc_code\n",
    "    , pc.code_short_description as Proc_name \n",
    "\n",
    "    , FORMAT(\n",
    "        '({}) {}-{}'\n",
    "        , substring(\"Mobile Phone\", 1, 3), substring(\"Mobile Phone\", 3, 3), substring(\"Mobile Phone\", 6, 4)\n",
    "    ) as \"Fmt Mobile Phone\"\n",
    "\n",
    "    , FORMAT(\n",
    "        '({}) {}-{}'\n",
    "        , substring(\"Home Phone\", 1, 3), substring(\"Home Phone\", 3, 3), substring(\"Home Phone\", 6, 4)\n",
    "    ) as \"Fmt Home Phone\"\n",
    "\n",
    "    , icd.code_long_description AS \"Diagnosis Description\"\n",
    "\n",
    "    FROM cln_referrals AS rf\n",
    "\n",
    "    LEFT JOIN icd10cm AS icd\n",
    "        ON trim(rf.\"Diagnosis\") = trim(icd.code_value)\n",
    "\n",
    "    LEFT JOIN hcpcs AS pc\n",
    "        on RIGHT(\"Procedure\", 5) = pc.code_value\n",
    "\n",
    "    LEFT JOIN team as tm\n",
    "        on  \"User_FName\" = tm.Fname\n",
    "        AND \"User_LName\" = tm.Lname\n",
    "\n",
    "    WHERE \"Visit Status\" IS NOT NULL\n",
    ")\n",
    "\n",
    ", max_updatedt as (\n",
    "    SELECT DISTINCT\n",
    "        Referral_keyid\n",
    "        , Update_DT\n",
    "        , MAX(Update_DT) OVER (PARTITION BY Referral_keyid) as Last_UpdateDT\n",
    "\n",
    "    FROM bi_referrals\n",
    ")\n",
    "\n",
    "SELECT DISTINCT m.* \n",
    "\n",
    "FROM main as m\n",
    "\n",
    "INNER JOIN max_updatedt as dt\n",
    "    ON m.Update_DT = dt.Last_UpdateDT\n",
    "    AND m.Referral_keyid = dt.Referral_keyid"
   ]
  },
  {
   "cell_type": "code",
   "execution_count": null,
   "metadata": {},
   "outputs": [],
   "source": []
  }
 ],
 "metadata": {
  "kernelspec": {
   "display_name": "Python 3",
   "language": "python",
   "name": "python3"
  },
  "language_info": {
   "codemirror_mode": {
    "name": "ipython",
    "version": 3
   },
   "file_extension": ".py",
   "mimetype": "text/x-python",
   "name": "python",
   "nbconvert_exporter": "python",
   "pygments_lexer": "ipython3",
   "version": "3.10.5"
  },
  "orig_nbformat": 4
 },
 "nbformat": 4,
 "nbformat_minor": 2
}
