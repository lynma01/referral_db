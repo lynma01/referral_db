{
 "cells": [
  {
   "attachments": {},
   "cell_type": "markdown",
   "metadata": {},
   "source": [
    "# Purpose\n",
    "- This file is a scratch-pad for sql queries"
   ]
  },
  {
   "cell_type": "code",
   "execution_count": 4,
   "metadata": {},
   "outputs": [
    {
     "name": "stdout",
     "output_type": "stream",
     "text": [
      "The sql extension is already loaded. To reload it, use:\n",
      "  %reload_ext sql\n"
     ]
    }
   ],
   "source": [
    "%load_ext sql\n",
    "%sql duckdb:///../data/referral.db --alias referralsDB"
   ]
  },
  {
   "cell_type": "code",
   "execution_count": 5,
   "metadata": {},
   "outputs": [],
   "source": [
    "%sql referralsDB"
   ]
  },
  {
   "cell_type": "code",
   "execution_count": 9,
   "metadata": {},
   "outputs": [
    {
     "name": "stdout",
     "output_type": "stream",
     "text": [
      "*  (referralsDB) duckdb:///../data/referral.db\n",
      "Done.\n"
     ]
    },
    {
     "data": {
      "text/html": [
       "<table>\n",
       "    <tr>\n",
       "        <th>Count</th>\n",
       "    </tr>\n",
       "    <tr>\n",
       "        <td>34</td>\n",
       "    </tr>\n",
       "</table>"
      ],
      "text/plain": [
       "[(34,)]"
      ]
     },
     "execution_count": 9,
     "metadata": {},
     "output_type": "execute_result"
    }
   ],
   "source": [
    "%%sql\n",
    "CREATE OR REPLACE TABLE health_plan as \n",
    "\n",
    "SELECT DISTINCT * FROM read_csv_auto('../data/reference/health_plan.csv', header=True)"
   ]
  },
  {
   "cell_type": "code",
   "execution_count": 3,
   "metadata": {},
   "outputs": [
    {
     "name": "stdout",
     "output_type": "stream",
     "text": [
      "*  (referralsDB) duckdb:///../data/referral.db\n",
      "Done.\n"
     ]
    },
    {
     "data": {
      "text/html": [
       "<table>\n",
       "    <tr>\n",
       "        <th>Count</th>\n",
       "    </tr>\n",
       "    <tr>\n",
       "        <td>818829</td>\n",
       "    </tr>\n",
       "</table>"
      ],
      "text/plain": [
       "[(818829,)]"
      ]
     },
     "execution_count": 3,
     "metadata": {},
     "output_type": "execute_result"
    }
   ],
   "source": [
    "%%sql\n",
    "CREATE OR REPLACE TABLE coc as\n",
    "\n",
    "SELECT DISTINCT * FROM read_csv_auto('../data/reference/coc.csv', header=True)"
   ]
  },
  {
   "cell_type": "code",
   "execution_count": 4,
   "metadata": {},
   "outputs": [
    {
     "name": "stdout",
     "output_type": "stream",
     "text": [
      "*  (referralsDB) duckdb:///../data/referral.db\n",
      "Done.\n"
     ]
    },
    {
     "data": {
      "text/html": [
       "<table>\n",
       "    <tr>\n",
       "        <th>Count</th>\n",
       "    </tr>\n",
       "    <tr>\n",
       "        <td>266</td>\n",
       "    </tr>\n",
       "</table>"
      ],
      "text/plain": [
       "[(266,)]"
      ]
     },
     "execution_count": 4,
     "metadata": {},
     "output_type": "execute_result"
    }
   ],
   "source": [
    "%%sql \n",
    "CREATE OR REPLACE TABLE team as \n",
    "\n",
    "SELECT DISTINCT * FROM read_csv_auto('../data/reference/user_list.csv', header=True)"
   ]
  },
  {
   "cell_type": "code",
   "execution_count": 5,
   "metadata": {},
   "outputs": [
    {
     "name": "stdout",
     "output_type": "stream",
     "text": [
      "*  (referralsDB) duckdb:///../data/referral.db\n",
      "Done.\n"
     ]
    },
    {
     "data": {
      "text/html": [
       "<table>\n",
       "    <tr>\n",
       "        <th>Count</th>\n",
       "    </tr>\n",
       "    <tr>\n",
       "        <td>16991</td>\n",
       "    </tr>\n",
       "</table>"
      ],
      "text/plain": [
       "[(16991,)]"
      ]
     },
     "execution_count": 5,
     "metadata": {},
     "output_type": "execute_result"
    }
   ],
   "source": [
    "%sql CREATE OR REPLACE TABLE hcpcs as SELECT DISTINCT * FROM read_csv_auto('../data/reference/cpt_hcpcs.csv', header=True)"
   ]
  },
  {
   "cell_type": "code",
   "execution_count": 6,
   "metadata": {},
   "outputs": [
    {
     "name": "stdout",
     "output_type": "stream",
     "text": [
      "*  (referralsDB) duckdb:///../data/referral.db\n",
      "Done.\n"
     ]
    },
    {
     "data": {
      "text/html": [
       "<table>\n",
       "    <tr>\n",
       "        <th>Count</th>\n",
       "    </tr>\n",
       "    <tr>\n",
       "        <td>95387</td>\n",
       "    </tr>\n",
       "</table>"
      ],
      "text/plain": [
       "[(95387,)]"
      ]
     },
     "execution_count": 6,
     "metadata": {},
     "output_type": "execute_result"
    }
   ],
   "source": [
    "%sql CREATE OR REPLACE TABLE icd10cm as SELECT DISTINCT * FROM read_csv('../data/reference/icd10cm.csv', header=True, columns={'code_value': 'VARCHAR', 'code_long_description': 'VARCHAR'})"
   ]
  },
  {
   "cell_type": "code",
   "execution_count": 7,
   "metadata": {},
   "outputs": [
    {
     "name": "stdout",
     "output_type": "stream",
     "text": [
      "*  (referralsDB) duckdb:///../data/referral.db\n",
      "Done.\n"
     ]
    },
    {
     "data": {
      "text/html": [
       "<table>\n",
       "    <tr>\n",
       "        <th>Count</th>\n",
       "    </tr>\n",
       "    <tr>\n",
       "        <td>100358</td>\n",
       "    </tr>\n",
       "</table>"
      ],
      "text/plain": [
       "[(100358,)]"
      ]
     },
     "execution_count": 7,
     "metadata": {},
     "output_type": "execute_result"
    }
   ],
   "source": [
    "%%sql \n",
    "CREATE OR REPLACE TABLE cln_referrals as \n",
    "\n",
    "SELECT DISTINCT * FROM read_parquet('../data/clean_referrals/*.parquet')"
   ]
  },
  {
   "attachments": {},
   "cell_type": "markdown",
   "metadata": {},
   "source": [
    "- No Auth Required ->\tAppointment Scheduled or Member to Schedule or Unable to Contact\n",
    "- Approved\t       ->   Appointment Scheduled or Member to Schedule or Unable to Contact\n",
    "- Denied\t       ->   Open\n",
    "- Withdrawn\t       ->   Open"
   ]
  },
  {
   "cell_type": "code",
   "execution_count": 11,
   "metadata": {},
   "outputs": [
    {
     "name": "stdout",
     "output_type": "stream",
     "text": [
      "*  (referralsDB) duckdb:///../data/referral.db\n"
     ]
    },
    {
     "data": {
      "application/vnd.jupyter.widget-view+json": {
       "model_id": "421f1c6b5b8e44999cc6e438aede1b9f",
       "version_major": 2,
       "version_minor": 0
      },
      "text/plain": [
       "FloatProgress(value=0.0, layout=Layout(width='100%'), style=ProgressStyle(bar_color='black'))"
      ]
     },
     "metadata": {},
     "output_type": "display_data"
    },
    {
     "name": "stdout",
     "output_type": "stream",
     "text": [
      "Done.\n"
     ]
    },
    {
     "data": {
      "text/html": [
       "<table>\n",
       "    <tr>\n",
       "        <th>Count</th>\n",
       "    </tr>\n",
       "    <tr>\n",
       "        <td>97556</td>\n",
       "    </tr>\n",
       "</table>"
      ],
      "text/plain": [
       "[(97556,)]"
      ]
     },
     "execution_count": 11,
     "metadata": {},
     "output_type": "execute_result"
    }
   ],
   "source": [
    "%%sql \n",
    "CREATE OR REPLACE TABLE bi_referrals AS \n",
    "\n",
    "WITH main AS (\n",
    "\n",
    "    SELECT DISTINCT rf.*\n",
    "    , COALESCE(tm.Team, 'N/A') AS User_Team\n",
    "\n",
    "    , UPPER(\"Last Name\") || UPPER(\"First Name\") AS patient_name\n",
    "\n",
    "    , UPPER(\"Last Name\") || UPPER(\"First Name\") || \"DOB\" AS patient_id\n",
    "\n",
    "    , patient_id || \"Referring Provider NPI\" || \"Referral Date\" || coalesce(\"Diagnosis\", 'NA') AS Referral_keyid\n",
    "\n",
    "    , CASE\n",
    "        WHEN \"Approval Status\" IN ('No HP Auth Required', 'HP Approved', 'Approved (comments required)', 'Complete/no Auth# needed')  \n",
    "            AND \"Visit Status\" IN ('Appointment Scheduled', 'Member to Schedule', 'Unable to Contact', 'Denied', 'Withdrawn')\n",
    "            THEN 'Completed'\n",
    "        WHEN \"Approval Status\" IN ('Denied- Per Insurance Plan', 'Denied- Per Medical Director Review')\n",
    "            AND \"Visit Status\" = 'Open'\n",
    "            THEN 'Completed'\n",
    "        ELSE \"Referral Status\" END AS \"Updated Status\"\n",
    "\n",
    "    , RIGHT(\"Procedure\", 5) AS Proc_code\n",
    "    , pc.code_short_description AS Proc_name \n",
    "\n",
    "    , FORMAT(\n",
    "        '({}) {}-{}'\n",
    "        , substring(\"Mobile Phone\", 1, 3), substring(\"Mobile Phone\", 3, 3), substring(\"Mobile Phone\", 6, 4)\n",
    "    ) AS \"Fmt Mobile Phone\"\n",
    "\n",
    "    , FORMAT(\n",
    "        '({}) {}-{}'\n",
    "        , substring(\"Home Phone\", 1, 3), substring(\"Home Phone\", 3, 3), substring(\"Home Phone\", 6, 4)\n",
    "    ) AS \"Fmt Home Phone\"\n",
    "\n",
    "    , REPLACE(REPLACE(REPLACE(REGEXP_REPLACE(UPPER(\"Health Plan\"), '[(*)]', ' ', 'g'), '-', ' '), '  ', ' '), '  ', ' ') AS \"Health Plan\"\n",
    "\n",
    "    , regexp_replace(array_slice(Address, -9, -7), '[0-9]', '', 'g') AS STATE\n",
    "\n",
    "    , array_slice(Address, -5, NULL) as ZIPCODE\n",
    "\n",
    "    , icd.code_long_description AS \"Diagnosis Description\"\n",
    "\n",
    "    FROM cln_referrals AS rf\n",
    "\n",
    "    LEFT JOIN icd10cm AS icd\n",
    "        ON trim(rf.\"Diagnosis\") = trim(icd.code_value)\n",
    "\n",
    "    LEFT JOIN hcpcs AS pc\n",
    "        ON RIGHT(\"Procedure\", 5) = pc.code_value\n",
    "\n",
    "    LEFT JOIN team AS tm\n",
    "        ON \"User_FName\" = tm.Fname\n",
    "        AND \"User_LName\" = tm.Lname\n",
    "\n",
    "    WHERE \"Visit Status\" IS NOT NULL\n",
    ")\n",
    "\n",
    ", max_updatedt AS (\n",
    "    SELECT DISTINCT\n",
    "        Referral_keyid\n",
    "        , Update_DT\n",
    "        , MAX(Update_DT) OVER (PARTITION BY Referral_keyid) as Last_UpdateDT\n",
    "\n",
    "    FROM main \n",
    ")\n",
    "\n",
    ", condense_dates AS (\n",
    "    SELECT DISTINCT m.* \n",
    "\n",
    "    FROM main AS m\n",
    "\n",
    "    INNER JOIN max_updatedt as dt\n",
    "        ON m.Update_DT = dt.Last_UpdateDT\n",
    "        AND m.Referral_keyid = dt.Referral_keyid\n",
    ")\n",
    "\n",
    ", gatekeeper as (\n",
    "    SELECT DISTINCT \n",
    "        cd.* \n",
    "        , hp.GATEKEEPER\n",
    "\n",
    "    FROM condense_dates AS cd\n",
    "\n",
    "    LEFT JOIN health_plan AS hp\n",
    "        ON cd.STATE = hp.STATE\n",
    "        AND cd.LOB = hp.LOB\n",
    ")\n",
    "\n",
    "SELECT DISTINCT * FROM gatekeeper"
   ]
  }
 ],
 "metadata": {
  "kernelspec": {
   "display_name": "Python 3",
   "language": "python",
   "name": "python3"
  },
  "language_info": {
   "codemirror_mode": {
    "name": "ipython",
    "version": 3
   },
   "file_extension": ".py",
   "mimetype": "text/x-python",
   "name": "python",
   "nbconvert_exporter": "python",
   "pygments_lexer": "ipython3",
   "version": "3.10.5"
  },
  "orig_nbformat": 4
 },
 "nbformat": 4,
 "nbformat_minor": 2
}
