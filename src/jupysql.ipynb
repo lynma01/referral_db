{
 "cells": [
  {
   "cell_type": "code",
   "execution_count": 3,
   "metadata": {},
   "outputs": [
    {
     "name": "stderr",
     "output_type": "stream",
     "text": [
      "c:\\Users\\MatthewLyn\\AppData\\Local\\Programs\\Python\\Python310\\lib\\site-packages\\requests\\__init__.py:102: RequestsDependencyWarning: urllib3 (1.26.9) or chardet (5.0.0)/charset_normalizer (2.0.12) doesn't match a supported version!\n",
      "  warnings.warn(\"urllib3 ({}) or chardet ({})/charset_normalizer ({}) doesn't match a supported \"\n"
     ]
    }
   ],
   "source": [
    "%load_ext sql\n",
    "%sql duckdb:///../data/referral.db --alias referralsDB"
   ]
  },
  {
   "cell_type": "code",
   "execution_count": 4,
   "metadata": {},
   "outputs": [],
   "source": [
    "%sql referralsDB"
   ]
  },
  {
   "cell_type": "code",
   "execution_count": 7,
   "metadata": {},
   "outputs": [
    {
     "name": "stdout",
     "output_type": "stream",
     "text": [
      "*  (referralsDB) duckdb:///../data/referral.db\n",
      "Done.\n"
     ]
    },
    {
     "data": {
      "text/html": [
       "<table>\n",
       "    <tr>\n",
       "        <th>Count</th>\n",
       "    </tr>\n",
       "    <tr>\n",
       "        <td>16991</td>\n",
       "    </tr>\n",
       "</table>"
      ],
      "text/plain": [
       "[(16991,)]"
      ]
     },
     "execution_count": 7,
     "metadata": {},
     "output_type": "execute_result"
    }
   ],
   "source": [
    "%sql CREATE OR REPLACE TABLE hcpcs as SELECT DISTINCT * FROM read_csv_auto('../data/reference/cpt_hcpcs.csv', header=True)"
   ]
  },
  {
   "cell_type": "code",
   "execution_count": 3,
   "metadata": {},
   "outputs": [
    {
     "name": "stdout",
     "output_type": "stream",
     "text": [
      "*  (referralsDB) duckdb:///../data/referral.db\n",
      "Done.\n"
     ]
    },
    {
     "data": {
      "text/html": [
       "<table>\n",
       "    <tr>\n",
       "        <th>Count</th>\n",
       "    </tr>\n",
       "    <tr>\n",
       "        <td>95387</td>\n",
       "    </tr>\n",
       "</table>"
      ],
      "text/plain": [
       "[(95387,)]"
      ]
     },
     "execution_count": 3,
     "metadata": {},
     "output_type": "execute_result"
    }
   ],
   "source": [
    "%sql CREATE OR REPLACE TABLE icd10cm as SELECT DISTINCT * FROM read_csv('../data/reference/icd10cm.csv', header=True, columns={'code_value': 'VARCHAR', 'code_long_description': 'VARCHAR'})"
   ]
  },
  {
   "cell_type": "code",
   "execution_count": 4,
   "metadata": {},
   "outputs": [
    {
     "name": "stdout",
     "output_type": "stream",
     "text": [
      "*  (referralsDB) duckdb:///../data/referral.db\n",
      "Done.\n"
     ]
    },
    {
     "data": {
      "text/html": [
       "<table>\n",
       "    <tr>\n",
       "        <th>Count</th>\n",
       "    </tr>\n",
       "    <tr>\n",
       "        <td>55510</td>\n",
       "    </tr>\n",
       "</table>"
      ],
      "text/plain": [
       "[(55510,)]"
      ]
     },
     "execution_count": 4,
     "metadata": {},
     "output_type": "execute_result"
    }
   ],
   "source": [
    "%%sql \n",
    "CREATE OR REPLACE TABLE cln_referrals as \n",
    "\n",
    "    SELECT DISTINCT * \n",
    "    FROM read_parquet('../data/clean_referrals/*.parquet')"
   ]
  },
  {
   "attachments": {},
   "cell_type": "markdown",
   "metadata": {},
   "source": [
    "- No Auth Required ->\tAppointment Scheduled or Member to Schedule or Unable to Contact\n",
    "- Approved\t       ->   Appointment Scheduled or Member to Schedule or Unable to Contact\n",
    "- Denied\t       ->   Open\n",
    "- Withdrawn\t       ->   Open"
   ]
  },
  {
   "cell_type": "code",
   "execution_count": 9,
   "metadata": {},
   "outputs": [
    {
     "name": "stdout",
     "output_type": "stream",
     "text": [
      "*  (referralsDB) duckdb:///../data/referral.db\n",
      "Done.\n"
     ]
    },
    {
     "data": {
      "text/html": [
       "<table>\n",
       "    <tr>\n",
       "        <th>Count</th>\n",
       "    </tr>\n",
       "    <tr>\n",
       "        <td>55510</td>\n",
       "    </tr>\n",
       "</table>"
      ],
      "text/plain": [
       "[(55510,)]"
      ]
     },
     "execution_count": 9,
     "metadata": {},
     "output_type": "execute_result"
    }
   ],
   "source": [
    "%%sql \n",
    "CREATE OR REPLACE TABLE bi_referrals as\n",
    "\n",
    "    SELECT DISTINCT *\n",
    "\n",
    "    , UPPER(\"Last Name\") || UPPER(\"First Name\") as patient_name\n",
    "\n",
    "    , UPPER(\"Last Name\") || UPPER(\"First Name\") || \"DOB\" as patient_id\n",
    "\n",
    "    , patient_id || coalesce(\"Plan ID\", 'NA') || coalesce(\"Referring Provider NPI\", 'NA') || \"Referral Date\" || coalesce(\"Procedure\", 'NA') || coalesce(Specialty, 'NA') as Referral_keyid\n",
    "\n",
    "    , CASE\n",
    "        WHEN \"Approval Status\" IN ('No HP Auth Required', 'HP Approved', 'Approved (comments required)', 'Complete/no Auth# needed')  \n",
    "            AND \"Visit Status\" IN ('Appointment Scheduled', 'Member to Schedule', 'Unable to Contact', 'Denied', 'Withdrawn')\n",
    "            THEN 'Completed'\n",
    "        WHEN \"Approval Status\" IN ('Denied- Per Insurance Plan', 'Denied- Per Medical Director Review')\n",
    "            AND \"Visit Status\" = 'Open'\n",
    "            THEN 'Completed'\n",
    "        ELSE \"Referral Status\" END as \"Updated Status\"\n",
    "\n",
    "    , RIGHT(\"Procedure\", 5) as Proc_code\n",
    "    , pc.code_short_description as Proc_name \n",
    "\n",
    "    , FORMAT(\n",
    "        '({}) {}-{}'\n",
    "        , substring(\"Mobile Phone\", 1, 3), substring(\"Mobile Phone\", 3, 3), substring(\"Mobile Phone\", 6, 4)\n",
    "    ) as \"Fmt Mobile Phone\"\n",
    "\n",
    "    , FORMAT(\n",
    "        '({}) {}-{}'\n",
    "        , substring(\"Home Phone\", 1, 3), substring(\"Home Phone\", 3, 3), substring(\"Home Phone\", 6, 4)\n",
    "    ) as \"Fmt Home Phone\"\n",
    "\n",
    "    , icd.code_long_description AS \"Diagnosis Description\"\n",
    "\n",
    "    FROM cln_referrals AS rf\n",
    "\n",
    "    LEFT JOIN icd10cm AS icd\n",
    "        ON trim(rf.\"Diagnosis\") = trim(icd.code_value)\n",
    "\n",
    "    LEFT JOIN hcpcs AS pc\n",
    "        on RIGHT(\"Procedure\", 5) = pc.code_value\n",
    "\n",
    "    WHERE \"Visit Status\" IS NOT NULL"
   ]
  },
  {
   "cell_type": "code",
   "execution_count": 11,
   "metadata": {},
   "outputs": [
    {
     "name": "stdout",
     "output_type": "stream",
     "text": [
      "*  (referralsDB) duckdb:///../data/referral.db\n"
     ]
    },
    {
     "data": {
      "application/vnd.jupyter.widget-view+json": {
       "model_id": "aff4b1f05e21448f96d334e260dbaa78",
       "version_major": 2,
       "version_minor": 0
      },
      "text/plain": [
       "FloatProgress(value=0.0, layout=Layout(width='100%'), style=ProgressStyle(bar_color='black'))"
      ]
     },
     "metadata": {},
     "output_type": "display_data"
    },
    {
     "name": "stdout",
     "output_type": "stream",
     "text": [
      "Done.\n"
     ]
    },
    {
     "data": {
      "text/html": [
       "<table>\n",
       "    <tr>\n",
       "        <th>Count</th>\n",
       "    </tr>\n",
       "    <tr>\n",
       "        <td>55510</td>\n",
       "    </tr>\n",
       "</table>"
      ],
      "text/plain": [
       "[(55510,)]"
      ]
     },
     "execution_count": 11,
     "metadata": {},
     "output_type": "execute_result"
    }
   ],
   "source": [
    "%%sql \n",
    "COPY (SELECT * FROM bi_referrals) TO '../data/report_data/2023-04-05.parquet' (FORMAT 'parquet'); "
   ]
  }
 ],
 "metadata": {
  "kernelspec": {
   "display_name": "Python 3",
   "language": "python",
   "name": "python3"
  },
  "language_info": {
   "codemirror_mode": {
    "name": "ipython",
    "version": 3
   },
   "file_extension": ".py",
   "mimetype": "text/x-python",
   "name": "python",
   "nbconvert_exporter": "python",
   "pygments_lexer": "ipython3",
   "version": "3.10.5"
  },
  "orig_nbformat": 4
 },
 "nbformat": 4,
 "nbformat_minor": 2
}
